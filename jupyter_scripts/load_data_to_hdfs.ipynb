{
 "cells": [
  {
   "cell_type": "code",
   "execution_count": 20,
   "metadata": {},
   "outputs": [],
   "source": [
    "from pyspark.sql.session import SparkSession\n",
    "from pyspark.sql import functions as fn\n",
    "from pyspark.sql.types import *\n",
    "\n",
    "from config import *\n",
    "\n",
    "spark = SparkSession \\\n",
    "                .builder \\\n",
    "                .appName(\"load_data_to_hdfs\") \\\n",
    "                .getOrCreate()\n",
    "\n",
    "def readData(fileName):\n",
    "    source_schema = StructType([\n",
    "                            StructField(\"VendorID\", IntegerType(), nullable=True),\n",
    "                            StructField(\"tpep_pickup_datetime\", TimestampType(), nullable=True),\n",
    "                            StructField(\"tpep_dropoff_datetime\", TimestampType(), nullable=True),\n",
    "                            StructField(\"passenger_count\", IntegerType(), nullable=True),\n",
    "                            StructField(\"trip_distance\", DoubleType(), nullable=True),\n",
    "                            StructField(\"RatecodeID\", IntegerType(), nullable=True),\n",
    "                            StructField(\"store_and_fwd_flag\", StringType(), nullable=True),\n",
    "                            StructField(\"PULocationID\", IntegerType(), nullable=True),\n",
    "                            StructField(\"DOLocationID\", IntegerType(), nullable=True),\n",
    "                            StructField(\"payment_type\", IntegerType(), nullable=True),\n",
    "                            StructField(\"fare_amount\", DoubleType(), nullable=True),\n",
    "                            StructField(\"extra\", DoubleType(), nullable=True),\n",
    "                            StructField(\"mta_tax\", DoubleType(), nullable=True),\n",
    "                            StructField(\"tip_amount\", DoubleType(), nullable=True),\n",
    "                            StructField(\"tolls_amount\", DoubleType(), nullable=True),\n",
    "                            StructField(\"improvement_surcharge\", DoubleType(), nullable=True),\n",
    "                            StructField(\"total_amount\", DoubleType(), nullable=True),\n",
    "                            StructField(\"congestion_surcharge\", DoubleType(), nullable=True)\n",
    "                       ])\n",
    "    \n",
    "    data_df = spark.read.format(\"csv\")\\\n",
    "                    .option(\"header\", True) \\\n",
    "                    .option(\"schema\", source_schema) \\\n",
    "                    .load(source+\"dataset\")\n",
    "    \n",
    "    return data_df\n",
    "  \n",
    "    \n",
    "def writeDataToHdfs(data_df):\n",
    "    data_df.write.orc(hdfs_source+"dataset", "overwrite")\\\n",
    "\n",
    "    \n",
    "def main():\n",
    "    data_df = readData(\"dataset\")\n",
    "    \n",
    "    writeDataToHdfs(data_df)\n",
    "    \n",
    "\n",
    "if __name__ == \"__main__\":\n",
    "    main()"
   ]
  }
 ],
 "metadata": {
  "kernelspec": {
   "display_name": "Python 3",
   "language": "python",
   "name": "python3"
  },
  "language_info": {
   "codemirror_mode": {
    "name": "ipython",
    "version": 3
   },
   "file_extension": ".py",
   "mimetype": "text/x-python",
   "name": "python",
   "nbconvert_exporter": "python",
   "pygments_lexer": "ipython3",
   "version": "3.7.3"
  }
 },
 "nbformat": 4,
 "nbformat_minor": 2
}
