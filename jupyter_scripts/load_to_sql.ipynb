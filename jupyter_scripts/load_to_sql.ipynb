{
 "cells": [
  {
   "cell_type": "code",
   "execution_count": 7,
   "metadata": {},
   "outputs": [],
   "source": [
    "from pyspark.sql.session import SparkSession\n",
    "from pyspark.sql import functions as fn\n",
    "\n",
    "from config import *\n",
    "\n",
    "spark = SparkSession \\\n",
    "                .builder \\\n",
    "                .appName(\"load_to_sql\") \\\n",
    "                .getOrCreate()\n",
    "\n",
    "def load_to_sql_from_hdfs(fileName, tableName):\n",
    "    data_df = spark.read.orc(hdfs_output+fileName)\n",
    "    \n",
    "    data_df.write.jdbc(mysql_url,\n",
    "                       tableName,\n",
    "                       properties={\"user\":mysql_un,\"password\":mysql_password})\n",
    "    \n",
    "def main():\n",
    "    load_to_sql_from_hdfs(\"weekly_sales_aggr\", \"output.weekly_sales_aggr\")\n",
    "    load_to_sql_from_hdfs(\"monthly_sales_aggr\", \"output.monthly_sales_aggr\")\n",
    "    load_to_sql_from_hdfs(\"avg_monthly_surcharge\", \"output.avg_monthly_surcharge\")\n",
    "    load_to_sql_from_hdfs(\"trips_hourly\", \"output.trips_hourly\")\n",
    "    load_to_sql_from_hdfs(\"top_payments_monthly\", \"output.top_payments_monthly\")\n",
    "    load_to_sql_from_hdfs(\"payment_dist_monthly\", \"output.payment_dist_monthly\")\n",
    "    load_to_sql_from_hdfs(\"total_passengers_monthly\", \"output.total_passengers_monthly\")\n",
    "    \n",
    "if __name__ == \"__main__\":\n",
    "    main()"
   ]
  }
 ],
 "metadata": {
  "kernelspec": {
   "display_name": "Python 3",
   "language": "python",
   "name": "python3"
  },
  "language_info": {
   "codemirror_mode": {
    "name": "ipython",
    "version": 3
   },
   "file_extension": ".py",
   "mimetype": "text/x-python",
   "name": "python",
   "nbconvert_exporter": "python",
   "pygments_lexer": "ipython3",
   "version": "3.7.3"
  }
 },
 "nbformat": 4,
 "nbformat_minor": 2
}
