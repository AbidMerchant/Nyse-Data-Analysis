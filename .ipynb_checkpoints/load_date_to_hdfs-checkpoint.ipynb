{
 "cells": [
  {
   "cell_type": "code",
   "execution_count": 1,
   "metadata": {},
   "outputs": [],
   "source": [
    "from pyspark.sql.session import SparkSession\n",
    "from pyspark.sql import functions as fn\n",
    "from pyspark.sql.types import *\n",
    "\n",
    "from config import *"
   ]
  },
  {
   "cell_type": "code",
   "execution_count": 2,
   "metadata": {},
   "outputs": [],
   "source": [
    "spark = SparkSession \\\n",
    "                .builder \\\n",
    "                .appName(\"analysis\") \\\n",
    "                .getOrCreate()"
   ]
  },
  {
   "cell_type": "code",
   "execution_count": 3,
   "metadata": {},
   "outputs": [],
   "source": [
    "# As size of data is very large, infering schema dynamically will take a long time. \n",
    "# So, we are specifying static schema\n",
    "\n",
    "source_schema = StructType([\n",
    "                        StructField(\"VendorID\", IntegerType(), nullable=True),\n",
    "                        StructField(\"tpep_pickup_datetime\", TimestampType(), nullable=True),\n",
    "                        StructField(\"tpep_dropoff_datetime\", TimestampType(), nullable=True),\n",
    "                        StructField(\"passenger_count\", IntegerType(), nullable=True),\n",
    "                        StructField(\"trip_distance\", DoubleType(), nullable=True),\n",
    "                        StructField(\"RatecodeID\", IntegerType(), nullable=True),\n",
    "                        StructField(\"store_and_fwd_flag\", StringType(), nullable=True),\n",
    "                        StructField(\"PULocationID\", IntegerType(), nullable=True),\n",
    "                        StructField(\"DOLocationID\", IntegerType(), nullable=True),\n",
    "                        StructField(\"payment_type\", IntegerType(), nullable=True),\n",
    "                        StructField(\"fare_amount\", DoubleType(), nullable=True),\n",
    "                        StructField(\"extra\", DoubleType(), nullable=True),\n",
    "                        StructField(\"mta_tax\", DoubleType(), nullable=True),\n",
    "                        StructField(\"tip_amount\", DoubleType(), nullable=True),\n",
    "                        StructField(\"tolls_amount\", DoubleType(), nullable=True),\n",
    "                        StructField(\"improvement_surcharge\", DoubleType(), nullable=True),\n",
    "                        StructField(\"total_amount\", DoubleType(), nullable=True),\n",
    "                        StructField(\"congestion_surcharge\", DoubleType(), nullable=True)\n",
    "                   ])"
   ]
  },
  {
   "cell_type": "code",
   "execution_count": 4,
   "metadata": {},
   "outputs": [],
   "source": [
    "data_df = spark.read.format(\"csv\")\\\n",
    "                    .option(\"header\", True) \\\n",
    "                    .option(\"schema\", source_schema) \\\n",
    "                    .load(source+\"dataset\")"
   ]
  },
  {
   "cell_type": "code",
   "execution_count": 5,
   "metadata": {},
   "outputs": [],
   "source": [
    "data_df.write.orc(hdfs_source+\"dataset\")"
   ]
  }
 ],
 "metadata": {
  "kernelspec": {
   "display_name": "Python 3",
   "language": "python",
   "name": "python3"
  },
  "language_info": {
   "codemirror_mode": {
    "name": "ipython",
    "version": 3
   },
   "file_extension": ".py",
   "mimetype": "text/x-python",
   "name": "python",
   "nbconvert_exporter": "python",
   "pygments_lexer": "ipython3",
   "version": "3.7.3"
  }
 },
 "nbformat": 4,
 "nbformat_minor": 2
}
